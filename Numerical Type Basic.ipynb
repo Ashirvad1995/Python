{
 "cells": [
  {
   "cell_type": "code",
   "execution_count": 1,
   "id": "fac737c5",
   "metadata": {},
   "outputs": [],
   "source": [
    "# The numeric data in Python is generally in three formats namely Integer, Float, and Complex."
   ]
  },
  {
   "cell_type": "code",
   "execution_count": 2,
   "id": "b6246ab9",
   "metadata": {},
   "outputs": [],
   "source": [
    "# We can create an integer variable using the two ways:\n",
    "#1.Directly assigning an integer value to a variable\n",
    "#2.Using a int() class."
   ]
  },
  {
   "cell_type": "code",
   "execution_count": 3,
   "id": "deadf514",
   "metadata": {},
   "outputs": [
    {
     "name": "stdout",
     "output_type": "stream",
     "text": [
      "Roll no is : 33\n",
      "<class 'int'>\n",
      "25\n",
      "<class 'int'>\n"
     ]
    }
   ],
   "source": [
    "roll_no = 33\n",
    "print(\"Roll no is :\", roll_no) # 33\n",
    "print(type(roll_no)) # class 'int'\n",
    "\n",
    "# create integer using int()class\n",
    "id = int(25)\n",
    "print(id) #25\n",
    "print(type(id))"
   ]
  },
  {
   "cell_type": "code",
   "execution_count": 4,
   "id": "2124b2cb",
   "metadata": {},
   "outputs": [
    {
     "name": "stdout",
     "output_type": "stream",
     "text": [
      "<class 'int'>\n",
      "<class 'float'>\n"
     ]
    }
   ],
   "source": [
    "# data type\n",
    "x = -9999\n",
    "y = 99.99\n",
    "print(type(x))\n",
    "print(type(y))"
   ]
  },
  {
   "cell_type": "code",
   "execution_count": 5,
   "id": "2e12a50e",
   "metadata": {},
   "outputs": [
    {
     "data": {
      "text/plain": [
       "(1+0j)"
      ]
     },
     "execution_count": 5,
     "metadata": {},
     "output_type": "execute_result"
    }
   ],
   "source": [
    "#A Python complex number is one having a real and imaginary parts.\n",
    "#Python provides a separate module called cmath with functions, especially for these complex\n",
    "complex(1)"
   ]
  },
  {
   "cell_type": "code",
   "execution_count": 6,
   "id": "396e0c85",
   "metadata": {},
   "outputs": [
    {
     "data": {
      "text/plain": [
       "(1-2j)"
      ]
     },
     "execution_count": 6,
     "metadata": {},
     "output_type": "execute_result"
    }
   ],
   "source": [
    "complex(1,-2)"
   ]
  },
  {
   "cell_type": "code",
   "execution_count": 7,
   "id": "2ceaa5c0",
   "metadata": {},
   "outputs": [
    {
     "name": "stdout",
     "output_type": "stream",
     "text": [
      "1.0\n",
      "2\n",
      "(1+0j)\n",
      "<class 'float'>\n",
      "<class 'int'>\n",
      "<class 'complex'>\n"
     ]
    }
   ],
   "source": [
    "x = 1    # int\n",
    "y = 2.8  # float\n",
    "z = 1j   # complex\n",
    "\n",
    "#convert from int to float:\n",
    "a = float(x)\n",
    "\n",
    "#convert from float to int:\n",
    "b = int(y)\n",
    "\n",
    "#convert from int to complex:\n",
    "c = complex(x)\n",
    "\n",
    "print(a)\n",
    "print(b)\n",
    "print(c)\n",
    "\n",
    "print(type(a))\n",
    "print(type(b))\n",
    "print(type(c))"
   ]
  },
  {
   "cell_type": "code",
   "execution_count": null,
   "id": "15050744",
   "metadata": {},
   "outputs": [],
   "source": [
    "\"\"\"\n",
    "Decimal uses ten digits, binary uses two digits, and hexadecimal uses sixteen digits. \n",
    "Since we only have theten digits from the decimal system to use, we substitute letters for everything above the number nine.\n",
    "Therefore, the digits in hexadecimal are 0, 1, 2, 3, 4, 5, 6, 7, 8, 9, A, B, C, D, E, and F.\n",
    "They represent zerothrough nine, then A is worth ten, B is worth eleven, C is worth twelve, \n",
    "D is worth thirteen, E is fourteen, and Fwraps up with a value of fifteen. So, there are sixteen digits in hexadecimal.\n",
    "\"\"\"\n",
    "#The eight digits of octal are 0, 1, 2, 3, 4, 5, 6, 7."
   ]
  },
  {
   "cell_type": "code",
   "execution_count": 11,
   "id": "3e33f038",
   "metadata": {},
   "outputs": [
    {
     "name": "stdout",
     "output_type": "stream",
     "text": [
      "print in binary form : 0b10100\n",
      "print in hexadecimal form : 0x14\n",
      "print in octal form : 0o24\n"
     ]
    }
   ],
   "source": [
    "i = 20\n",
    "print(\"print in binary form :\", bin(i))\n",
    "print(\"print in hexadecimal form :\", hex(i))\n",
    "print(\"print in octal form :\", oct(i))"
   ]
  },
  {
   "cell_type": "code",
   "execution_count": 12,
   "id": "d73af7e4",
   "metadata": {},
   "outputs": [],
   "source": [
    "###Type Casting\n",
    "#Implicit Type conversion : Compatible data types are in general two numeric data types like int and float. \n",
    "#It willconvert the smaller data type to larger one to prevent any data loss. For eg.; int data will be converted to float."
   ]
  },
  {
   "cell_type": "code",
   "execution_count": 13,
   "id": "7226c21c",
   "metadata": {},
   "outputs": [
    {
     "name": "stdout",
     "output_type": "stream",
     "text": [
      "<class 'int'>\n",
      "<class 'float'>\n",
      "<class 'float'>\n"
     ]
    }
   ],
   "source": [
    "x = 99\n",
    "y = 1.111\n",
    "\n",
    "#data in int and float\n",
    "print(type(x))\n",
    "print(type(y))\n",
    "#addition\n",
    "z = x+y\n",
    "#type after addition\n",
    "print(type(z))"
   ]
  },
  {
   "cell_type": "code",
   "execution_count": 14,
   "id": "6d69e268",
   "metadata": {},
   "outputs": [],
   "source": [
    "# Explicit Type conversion : In Explicit Type Conversion, users convert the data type of an object to the required data type"
   ]
  },
  {
   "cell_type": "code",
   "execution_count": 15,
   "id": "b05438b2",
   "metadata": {},
   "outputs": [
    {
     "data": {
      "text/plain": [
       "123"
      ]
     },
     "execution_count": 15,
     "metadata": {},
     "output_type": "execute_result"
    }
   ],
   "source": [
    "int(123.654)"
   ]
  },
  {
   "cell_type": "code",
   "execution_count": 16,
   "id": "6ee10fcb",
   "metadata": {},
   "outputs": [
    {
     "data": {
      "text/plain": [
       "10"
      ]
     },
     "execution_count": 16,
     "metadata": {},
     "output_type": "execute_result"
    }
   ],
   "source": [
    "int(\"10\")"
   ]
  },
  {
   "cell_type": "code",
   "execution_count": 17,
   "id": "510cf3ea",
   "metadata": {},
   "outputs": [
    {
     "ename": "ValueError",
     "evalue": "invalid literal for int() with base 10: '10.5'",
     "output_type": "error",
     "traceback": [
      "\u001b[1;31m---------------------------------------------------------------------------\u001b[0m",
      "\u001b[1;31mValueError\u001b[0m                                Traceback (most recent call last)",
      "\u001b[1;32m~\\AppData\\Local\\Temp/ipykernel_19868/864341924.py\u001b[0m in \u001b[0;36m<module>\u001b[1;34m\u001b[0m\n\u001b[1;32m----> 1\u001b[1;33m \u001b[0mint\u001b[0m\u001b[1;33m(\u001b[0m\u001b[1;34m\"10.5\"\u001b[0m\u001b[1;33m)\u001b[0m\u001b[1;33m\u001b[0m\u001b[1;33m\u001b[0m\u001b[0m\n\u001b[0m",
      "\u001b[1;31mValueError\u001b[0m: invalid literal for int() with base 10: '10.5'"
     ]
    }
   ],
   "source": [
    "int(\"10.5\")"
   ]
  },
  {
   "cell_type": "code",
   "execution_count": 18,
   "id": "1667ab06",
   "metadata": {},
   "outputs": [
    {
     "ename": "ValueError",
     "evalue": "invalid literal for int() with base 10: 'ten'",
     "output_type": "error",
     "traceback": [
      "\u001b[1;31m---------------------------------------------------------------------------\u001b[0m",
      "\u001b[1;31mValueError\u001b[0m                                Traceback (most recent call last)",
      "\u001b[1;32m~\\AppData\\Local\\Temp/ipykernel_19868/1877291328.py\u001b[0m in \u001b[0;36m<module>\u001b[1;34m\u001b[0m\n\u001b[1;32m----> 1\u001b[1;33m \u001b[0mint\u001b[0m\u001b[1;33m(\u001b[0m\u001b[1;34m\"ten\"\u001b[0m\u001b[1;33m)\u001b[0m\u001b[1;33m\u001b[0m\u001b[1;33m\u001b[0m\u001b[0m\n\u001b[0m",
      "\u001b[1;31mValueError\u001b[0m: invalid literal for int() with base 10: 'ten'"
     ]
    }
   ],
   "source": [
    "int(\"ten\")"
   ]
  },
  {
   "cell_type": "code",
   "execution_count": 1,
   "id": "933e4ba4",
   "metadata": {},
   "outputs": [
    {
     "name": "stdout",
     "output_type": "stream",
     "text": [
      "apple99\n"
     ]
    }
   ],
   "source": [
    "#concatenating int and str types\n",
    "i = 99\n",
    "s = \"apple\"\n",
    "print(s+str(i))"
   ]
  },
  {
   "cell_type": "code",
   "execution_count": 2,
   "id": "607e522b",
   "metadata": {},
   "outputs": [],
   "source": [
    "# Python defines a set of functions that are used to generate or manipulate random numbers through the randommodule."
   ]
  },
  {
   "cell_type": "code",
   "execution_count": 4,
   "id": "038e020b",
   "metadata": {},
   "outputs": [
    {
     "name": "stdout",
     "output_type": "stream",
     "text": [
      "6\n"
     ]
    }
   ],
   "source": [
    "import random\n",
    "\n",
    "# prints a random value from the list.\n",
    "list1 = [1,2,3,4,5,6]\n",
    "print(random.choice(list1))"
   ]
  },
  {
   "cell_type": "code",
   "execution_count": 6,
   "id": "5dddad4d",
   "metadata": {},
   "outputs": [
    {
     "name": "stdout",
     "output_type": "stream",
     "text": [
      "A random number from list is : 4\n"
     ]
    }
   ],
   "source": [
    "import random\n",
    "# Using choice() to generate a random number from a given list of numbers.\n",
    "print(\"A random number from list is : \",end =\"\")\n",
    "print(random.choice([1,4,8,10,3]))"
   ]
  },
  {
   "cell_type": "code",
   "execution_count": 8,
   "id": "a248a7b5",
   "metadata": {},
   "outputs": [
    {
     "name": "stdout",
     "output_type": "stream",
     "text": [
      "A random number from range is : 47\n"
     ]
    }
   ],
   "source": [
    "print(\"A random number from range is : \",end =\"\")\n",
    "print(random.randrange(20, 50, 3))"
   ]
  },
  {
   "cell_type": "code",
   "execution_count": null,
   "id": "1d5c094a",
   "metadata": {},
   "outputs": [],
   "source": []
  }
 ],
 "metadata": {
  "kernelspec": {
   "display_name": "Python 3 (ipykernel)",
   "language": "python",
   "name": "python3"
  },
  "language_info": {
   "codemirror_mode": {
    "name": "ipython",
    "version": 3
   },
   "file_extension": ".py",
   "mimetype": "text/x-python",
   "name": "python",
   "nbconvert_exporter": "python",
   "pygments_lexer": "ipython3",
   "version": "3.9.7"
  }
 },
 "nbformat": 4,
 "nbformat_minor": 5
}
