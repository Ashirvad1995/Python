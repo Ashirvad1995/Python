{
 "cells": [
  {
   "cell_type": "code",
   "execution_count": 1,
   "id": "02f689ac",
   "metadata": {},
   "outputs": [],
   "source": [
    "## Set."
   ]
  },
  {
   "cell_type": "code",
   "execution_count": 2,
   "id": "1a297463",
   "metadata": {},
   "outputs": [],
   "source": [
    "# Set is an unorderd collection of data that are unique.In other words, python set is a collection of elements or object that\n",
    "# contain no duplicates value"
   ]
  },
  {
   "cell_type": "code",
   "execution_count": null,
   "id": "95244efb",
   "metadata": {},
   "outputs": [],
   "source": [
    "# Characterstics of Set:\n",
    "1. Unorderd.\n",
    "2. Unchangeble.\n",
    "3. Hetrogeneous.\n",
    "4. Unique."
   ]
  },
  {
   "cell_type": "code",
   "execution_count": 4,
   "id": "f16069f2",
   "metadata": {},
   "outputs": [],
   "source": [
    "# Creating a Set.\n",
    "#1. Using Curly{} brackets.\n",
    "#2. Using set Constructor."
   ]
  },
  {
   "cell_type": "code",
   "execution_count": 5,
   "id": "bb3b44b5",
   "metadata": {},
   "outputs": [
    {
     "name": "stdout",
     "output_type": "stream",
     "text": [
      "{1, 2, 3, 4, 6, 8}\n"
     ]
    }
   ],
   "source": [
    "#1. Using Curly{} brackets.\n",
    "\n",
    "set ={1, 4, 6, 2, 8, 3}\n",
    "print(set)   "
   ]
  },
  {
   "cell_type": "code",
   "execution_count": 10,
   "id": "35cb945e",
   "metadata": {},
   "outputs": [
    {
     "name": "stdout",
     "output_type": "stream",
     "text": [
      "{'Ashirvad', 25, 75.25}\n"
     ]
    }
   ],
   "source": [
    "sample_set = {'Ashirvad', 25, 75.25}\n",
    "print(sample_set)"
   ]
  },
  {
   "cell_type": "code",
   "execution_count": 52,
   "id": "36d87222",
   "metadata": {},
   "outputs": [
    {
     "ename": "TypeError",
     "evalue": "'set' object is not callable",
     "output_type": "error",
     "traceback": [
      "\u001b[1;31m---------------------------------------------------------------------------\u001b[0m",
      "\u001b[1;31mTypeError\u001b[0m                                 Traceback (most recent call last)",
      "\u001b[1;32m~\\AppData\\Local\\Temp/ipykernel_16616/719612752.py\u001b[0m in \u001b[0;36m<module>\u001b[1;34m\u001b[0m\n\u001b[0;32m      1\u001b[0m \u001b[1;31m#2. Using set Constructor.\u001b[0m\u001b[1;33m\u001b[0m\u001b[1;33m\u001b[0m\u001b[0m\n\u001b[1;32m----> 2\u001b[1;33m \u001b[0mSet1\u001b[0m \u001b[1;33m=\u001b[0m \u001b[0mset\u001b[0m\u001b[1;33m(\u001b[0m\u001b[1;33m(\u001b[0m\u001b[1;36m1\u001b[0m\u001b[1;33m,\u001b[0m\u001b[1;36m2\u001b[0m\u001b[1;33m,\u001b[0m\u001b[1;36m3\u001b[0m\u001b[1;33m,\u001b[0m\u001b[1;36m4\u001b[0m\u001b[1;33m)\u001b[0m\u001b[1;33m)\u001b[0m\u001b[1;33m\u001b[0m\u001b[1;33m\u001b[0m\u001b[0m\n\u001b[0m\u001b[0;32m      3\u001b[0m \u001b[0mprint\u001b[0m\u001b[1;33m(\u001b[0m\u001b[0mSet1\u001b[0m\u001b[1;33m)\u001b[0m\u001b[1;33m\u001b[0m\u001b[1;33m\u001b[0m\u001b[0m\n",
      "\u001b[1;31mTypeError\u001b[0m: 'set' object is not callable"
     ]
    }
   ],
   "source": [
    "#2. Using set Constructor.\n",
    "Set1 = set((1,2,3,4))\n",
    "print(Set1)"
   ]
  },
  {
   "cell_type": "code",
   "execution_count": 19,
   "id": "56a95df4",
   "metadata": {},
   "outputs": [
    {
     "ename": "TypeError",
     "evalue": "'set' object is not callable",
     "output_type": "error",
     "traceback": [
      "\u001b[1;31m---------------------------------------------------------------------------\u001b[0m",
      "\u001b[1;31mTypeError\u001b[0m                                 Traceback (most recent call last)",
      "\u001b[1;32m~\\AppData\\Local\\Temp/ipykernel_16616/4138021507.py\u001b[0m in \u001b[0;36m<module>\u001b[1;34m\u001b[0m\n\u001b[1;32m----> 1\u001b[1;33m \u001b[0mSet1\u001b[0m \u001b[1;33m=\u001b[0m \u001b[0mset\u001b[0m\u001b[1;33m(\u001b[0m\u001b[1;33m(\u001b[0m\u001b[1;36m1\u001b[0m\u001b[1;33m,\u001b[0m\u001b[1;36m2\u001b[0m\u001b[1;33m,\u001b[0m\u001b[1;36m3\u001b[0m\u001b[1;33m,\u001b[0m\u001b[1;36m4\u001b[0m\u001b[1;33m)\u001b[0m\u001b[1;33m)\u001b[0m\u001b[1;33m\u001b[0m\u001b[1;33m\u001b[0m\u001b[0m\n\u001b[0m\u001b[0;32m      2\u001b[0m \u001b[0mprint\u001b[0m\u001b[1;33m(\u001b[0m\u001b[0mSet1\u001b[0m\u001b[1;33m)\u001b[0m\u001b[1;33m\u001b[0m\u001b[1;33m\u001b[0m\u001b[0m\n",
      "\u001b[1;31mTypeError\u001b[0m: 'set' object is not callable"
     ]
    }
   ],
   "source": [
    "Set1 = set((1,2,3,4))\n",
    "print(Set1)\n"
   ]
  },
  {
   "cell_type": "code",
   "execution_count": 26,
   "id": "b9b3e1a7",
   "metadata": {},
   "outputs": [],
   "source": [
    "# Add items\n",
    "# Once a set is created, you cannot change its items, but you can add new items"
   ]
  },
  {
   "cell_type": "code",
   "execution_count": 27,
   "id": "ad042e7a",
   "metadata": {},
   "outputs": [
    {
     "name": "stdout",
     "output_type": "stream",
     "text": [
      "{'banana', 'orange', 'apple', 'Cherry'}\n"
     ]
    }
   ],
   "source": [
    "thisset = {\"apple\",\"banana\",\"Cherry\"}\n",
    "thisset.add(\"orange\")\n",
    "print(thisset)"
   ]
  },
  {
   "cell_type": "code",
   "execution_count": 28,
   "id": "8e137bf1",
   "metadata": {},
   "outputs": [
    {
     "name": "stdout",
     "output_type": "stream",
     "text": [
      "{'banana', 'apple', 'Cherry', 'mango'}\n"
     ]
    }
   ],
   "source": [
    "thisset = {\"apple\",\"banana\",\"Cherry\"}\n",
    "thisset.update([\"mango\"])\n",
    "print(thisset)"
   ]
  },
  {
   "cell_type": "code",
   "execution_count": 30,
   "id": "e39754ee",
   "metadata": {},
   "outputs": [
    {
     "name": "stdout",
     "output_type": "stream",
     "text": [
      "{'banana', 'mango', 'papaya', 'cherry', 'pineapple', 'apple'}\n"
     ]
    }
   ],
   "source": [
    "a = {\"apple\", \"banana\", \"cherry\"}\n",
    "b = {\"pineapple\", \"mango\", \"papaya\"}\n",
    "\n",
    "a.update(b)\n",
    "print(a)"
   ]
  },
  {
   "cell_type": "code",
   "execution_count": 31,
   "id": "51557976",
   "metadata": {},
   "outputs": [],
   "source": [
    "# Remove Items"
   ]
  },
  {
   "cell_type": "code",
   "execution_count": 32,
   "id": "d0abea4e",
   "metadata": {},
   "outputs": [
    {
     "name": "stdout",
     "output_type": "stream",
     "text": [
      "{'green', 'orange', 'red', 'blue', 'black', 'white'}\n"
     ]
    }
   ],
   "source": [
    "#Remove method\n",
    "color_set = {'red', 'orange', 'yellow', 'white', 'black', 'blue', 'green'}\n",
    "# remove single item\n",
    "color_set.remove('yellow')\n",
    "print(color_set)\n"
   ]
  },
  {
   "cell_type": "code",
   "execution_count": 33,
   "id": "4bd0c06b",
   "metadata": {},
   "outputs": [
    {
     "name": "stdout",
     "output_type": "stream",
     "text": [
      "{'green', 'orange', 'red', 'blue', 'black'}\n"
     ]
    }
   ],
   "source": [
    "#discard method\n",
    "color_set.discard('white')\n",
    "print(color_set)"
   ]
  },
  {
   "cell_type": "code",
   "execution_count": 34,
   "id": "0629c6b3",
   "metadata": {},
   "outputs": [
    {
     "name": "stdout",
     "output_type": "stream",
     "text": [
      "green\n"
     ]
    }
   ],
   "source": [
    "#pop() method\n",
    "## remove any random item from a set\n",
    "deleted_item = color_set.pop()\n",
    "print(deleted_item)\n"
   ]
  },
  {
   "cell_type": "code",
   "execution_count": 35,
   "id": "82448265",
   "metadata": {},
   "outputs": [
    {
     "name": "stdout",
     "output_type": "stream",
     "text": [
      "set()\n"
     ]
    }
   ],
   "source": [
    "# remove all items\n",
    "color_set.clear()\n",
    "print(color_set)\n"
   ]
  },
  {
   "cell_type": "code",
   "execution_count": 36,
   "id": "a2aab62b",
   "metadata": {},
   "outputs": [
    {
     "name": "stdout",
     "output_type": "stream",
     "text": [
      "{'green', 'yellow', 'orange', 'red', 'blue', 'black', 'white'}\n"
     ]
    }
   ],
   "source": [
    "color_set = {'red', 'orange', 'yellow', 'white', 'black', 'blue', 'green'}\n",
    "print(color_set)\n"
   ]
  },
  {
   "cell_type": "code",
   "execution_count": 37,
   "id": "0954e9ec",
   "metadata": {},
   "outputs": [
    {
     "ename": "NameError",
     "evalue": "name 'color_set' is not defined",
     "output_type": "error",
     "traceback": [
      "\u001b[1;31m---------------------------------------------------------------------------\u001b[0m",
      "\u001b[1;31mNameError\u001b[0m                                 Traceback (most recent call last)",
      "\u001b[1;32m~\\AppData\\Local\\Temp/ipykernel_16616/1410379247.py\u001b[0m in \u001b[0;36m<module>\u001b[1;34m\u001b[0m\n\u001b[0;32m      1\u001b[0m \u001b[1;32mdel\u001b[0m \u001b[0mcolor_set\u001b[0m\u001b[1;33m\u001b[0m\u001b[1;33m\u001b[0m\u001b[0m\n\u001b[1;32m----> 2\u001b[1;33m \u001b[0mprint\u001b[0m\u001b[1;33m(\u001b[0m\u001b[0mcolor_set\u001b[0m\u001b[1;33m)\u001b[0m\u001b[1;33m\u001b[0m\u001b[1;33m\u001b[0m\u001b[0m\n\u001b[0m",
      "\u001b[1;31mNameError\u001b[0m: name 'color_set' is not defined"
     ]
    }
   ],
   "source": [
    "del color_set\n",
    "print(color_set)\n"
   ]
  },
  {
   "cell_type": "code",
   "execution_count": 38,
   "id": "a1023bbe",
   "metadata": {},
   "outputs": [],
   "source": [
    "# remove() vs discard() :\n",
    "#The remove() method throws a keyerror if the item you want to delete is not present in a set\n",
    "#The discard() method will not throw any error if the item you want to delete is not present in a set"
   ]
  },
  {
   "cell_type": "code",
   "execution_count": 39,
   "id": "1b64c7aa",
   "metadata": {},
   "outputs": [],
   "source": [
    "# Set Operations"
   ]
  },
  {
   "cell_type": "code",
   "execution_count": 40,
   "id": "354b4958",
   "metadata": {},
   "outputs": [
    {
     "name": "stdout",
     "output_type": "stream",
     "text": [
      "{'indigo', 'green', 'orange', 'violet', 'yellow', 'red', 'blue'}\n"
     ]
    }
   ],
   "source": [
    "#Union\n",
    "color_set = {'violet', 'indigo', 'blue', 'green', 'yellow'}\n",
    "remaining_colors = {'indigo', 'orange', 'red'}\n",
    "\n",
    "# union of two set using OR operator\n",
    "vibgyor_colors = color_set | remaining_colors\n",
    "print(vibgyor_colors)\n"
   ]
  },
  {
   "cell_type": "code",
   "execution_count": 41,
   "id": "64e8276e",
   "metadata": {},
   "outputs": [
    {
     "name": "stdout",
     "output_type": "stream",
     "text": [
      "{'indigo', 'green', 'orange', 'violet', 'yellow', 'red', 'blue'}\n"
     ]
    }
   ],
   "source": [
    "vibgyor_colors = color_set.union(remaining_colors)\n",
    "print(vibgyor_colors)\n"
   ]
  },
  {
   "cell_type": "code",
   "execution_count": 43,
   "id": "29a619d4",
   "metadata": {},
   "outputs": [
    {
     "name": "stdout",
     "output_type": "stream",
     "text": [
      "{'indigo'}\n",
      "{'indigo'}\n"
     ]
    }
   ],
   "source": [
    "#Intersection\n",
    "color_set = {'violet', 'indigo', 'blue', 'green', 'yellow'}\n",
    "remaining_colors = {'indigo', 'orange', 'red'}\n",
    "# intersection of two set using & operator\n",
    "new_set = color_set & remaining_colors\n",
    "print(new_set)\n",
    "new_set1 = color_set.intersection(remaining_colors)\n",
    "print(new_set1)"
   ]
  },
  {
   "cell_type": "code",
   "execution_count": 44,
   "id": "4e044033",
   "metadata": {},
   "outputs": [
    {
     "name": "stdout",
     "output_type": "stream",
     "text": [
      "{'yellow', 'green', 'blue', 'violet'}\n",
      "{'yellow', 'green', 'blue', 'violet'}\n"
     ]
    }
   ],
   "source": [
    "color_set = {'violet', 'indigo', 'blue', 'green', 'yellow'}\n",
    "remaining_colors = {'indigo', 'orange', 'red'}\n",
    "# difference using '-' operator\n",
    "print(color_set - remaining_colors)\n",
    "# using difference() method\n",
    "print(color_set.difference(remaining_colors))"
   ]
  },
  {
   "cell_type": "code",
   "execution_count": 45,
   "id": "9cf6da9a",
   "metadata": {},
   "outputs": [
    {
     "name": "stdout",
     "output_type": "stream",
     "text": [
      "{'violet', 'red', 'green', 'orange', 'yellow', 'blue'}\n",
      "{'violet', 'red', 'green', 'orange', 'yellow', 'blue'}\n"
     ]
    }
   ],
   "source": [
    "#Symmetric difference\n",
    "color_set = {'violet', 'indigo', 'blue', 'green', 'yellow'}\n",
    "remaining_colors = {'indigo', 'orange', 'red'}\n",
    "# symmetric difference between using ^ operator\n",
    "unique_items = color_set ^ remaining_colors\n",
    "print(unique_items)\n",
    "# Output {'blue', 'orange', 'violet', 'green', 'yellow', 'red'}\n",
    "# using symmetric_difference()\n",
    "unique_items2 = color_set.symmetric_difference(remaining_colors)\n",
    "print(unique_items2)"
   ]
  },
  {
   "cell_type": "code",
   "execution_count": 46,
   "id": "22d08f94",
   "metadata": {},
   "outputs": [
    {
     "name": "stdout",
     "output_type": "stream",
     "text": [
      "True\n",
      "False\n"
     ]
    }
   ],
   "source": [
    "color_set1 = {'violet', 'indigo', 'blue', 'green', 'yellow', 'orange', 'red'}\n",
    "color_set2 = {'indigo', 'orange', 'red'}\n",
    "# subset\n",
    "print(color_set2.issubset(color_set1))\n",
    "print(color_set1.issubset(color_set2))"
   ]
  },
  {
   "cell_type": "code",
   "execution_count": 47,
   "id": "3e2bdcc7",
   "metadata": {},
   "outputs": [
    {
     "name": "stdout",
     "output_type": "stream",
     "text": [
      "False\n",
      "True\n"
     ]
    }
   ],
   "source": [
    "color_set1 = {'violet', 'blue', 'yellow', 'red'}\n",
    "color_set2 = {'orange', 'red'}\n",
    "color_set3 = {'green', 'orange'}\n",
    "# disjoint\n",
    "print(color_set2.isdisjoint(color_set1))\n",
    "# Output 'False' because contains 'red' as a common item\n",
    "print(color_set3.isdisjoint(color_set1))"
   ]
  },
  {
   "cell_type": "code",
   "execution_count": 48,
   "id": "c5aa2a24",
   "metadata": {},
   "outputs": [
    {
     "name": "stdout",
     "output_type": "stream",
     "text": [
      "all() With all true values: True\n",
      "any() with all true Values: True\n"
     ]
    }
   ],
   "source": [
    "set1 = {1, 2, 3, 4}\n",
    "set2 = {0, 2, 4, 6, 8} # set with one false value '0'\n",
    "set3 = {True, True} # set with all true\n",
    "set4 = {True, False} # set with one false\n",
    "set5 = {False, 0} # set with both false values\n",
    "# checking all true value set\n",
    "print('all() With all true values:', all(set1))\n",
    "print('any() with all true Values:', any(set1)) "
   ]
  },
  {
   "cell_type": "code",
   "execution_count": 49,
   "id": "a1742125",
   "metadata": {},
   "outputs": [
    {
     "name": "stdout",
     "output_type": "stream",
     "text": [
      "15\n",
      "abc\n",
      "2\n",
      "ABC\n"
     ]
    }
   ],
   "source": [
    "set1 = {2, 4, 6, 10, 8, 15}\n",
    "set2 = {'ABC', 'abc'}\n",
    "# Max item from integer Set\n",
    "print(max(set1)) # 15\n",
    "# Max item from string Set\n",
    "print(max(set2)) # abc\n",
    "# Minimum item from integer Set\n",
    "print(min(set1)) # 2\n",
    "# Minimum item from string Set\n",
    "print(min(set2)) # ABC"
   ]
  },
  {
   "cell_type": "code",
   "execution_count": null,
   "id": "8f37d8e9",
   "metadata": {},
   "outputs": [],
   "source": []
  }
 ],
 "metadata": {
  "kernelspec": {
   "display_name": "Python 3 (ipykernel)",
   "language": "python",
   "name": "python3"
  },
  "language_info": {
   "codemirror_mode": {
    "name": "ipython",
    "version": 3
   },
   "file_extension": ".py",
   "mimetype": "text/x-python",
   "name": "python",
   "nbconvert_exporter": "python",
   "pygments_lexer": "ipython3",
   "version": "3.9.7"
  }
 },
 "nbformat": 4,
 "nbformat_minor": 5
}
