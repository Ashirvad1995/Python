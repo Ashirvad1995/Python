{
 "cells": [
  {
   "cell_type": "code",
   "execution_count": 1,
   "id": "a93b8c0f",
   "metadata": {},
   "outputs": [],
   "source": [
    "# Tuple are orderd collections of hetrogeneous data that are unchangeable.\n",
    "# Tuple has the following characteristics:\n",
    "# 1.Orderd.\n",
    "# 2.Immutable.\n",
    "# 3.Hetrogeneous.\n",
    "# 4.Duplicates."
   ]
  },
  {
   "cell_type": "code",
   "execution_count": 2,
   "id": "7753ac00",
   "metadata": {},
   "outputs": [],
   "source": [
    "# Creating a tuple\n",
    "# 1.Using Pranthesis()\n",
    "# 2.Using Tuple() constructor."
   ]
  },
  {
   "cell_type": "code",
   "execution_count": 3,
   "id": "55179d05",
   "metadata": {},
   "outputs": [
    {
     "name": "stdout",
     "output_type": "stream",
     "text": [
      "(10, 20, 20.5)\n"
     ]
    }
   ],
   "source": [
    "number_tuple = (10,20,20.5)\n",
    "print(number_tuple)"
   ]
  },
  {
   "cell_type": "code",
   "execution_count": 4,
   "id": "5046c1a4",
   "metadata": {},
   "outputs": [
    {
     "name": "stdout",
     "output_type": "stream",
     "text": [
      "('Ashrvad', 19, 27.1)\n"
     ]
    }
   ],
   "source": [
    "number_tuple = ('Ashrvad',19, 27.1) # Hetrogeneous\n",
    "print(number_tuple)"
   ]
  },
  {
   "cell_type": "code",
   "execution_count": 5,
   "id": "23f97013",
   "metadata": {},
   "outputs": [
    {
     "name": "stdout",
     "output_type": "stream",
     "text": [
      "(True, False, True)\n"
     ]
    }
   ],
   "source": [
    "tuple3 = (True,False,True)  # Boolean value\n",
    "print(tuple3)"
   ]
  },
  {
   "cell_type": "code",
   "execution_count": 7,
   "id": "fdd238d8",
   "metadata": {},
   "outputs": [
    {
     "name": "stdout",
     "output_type": "stream",
     "text": [
      "('Ashrvad', 19, 27.1)\n"
     ]
    },
    {
     "data": {
      "text/plain": [
       "tuple"
      ]
     },
     "execution_count": 7,
     "metadata": {},
     "output_type": "execute_result"
    }
   ],
   "source": [
    "number_tuple = tuple(('Ashrvad',19, 27.1)) # using tuple constroctor\n",
    "\n",
    "print(number_tuple)\n",
    "type(number_tuple)"
   ]
  },
  {
   "cell_type": "code",
   "execution_count": 8,
   "id": "8c3b4c2e",
   "metadata": {},
   "outputs": [
    {
     "name": "stdout",
     "output_type": "stream",
     "text": [
      "<class 'str'>\n",
      "Hello\n"
     ]
    }
   ],
   "source": [
    "# without comma\n",
    "single_tuple = ('Hello')\n",
    "print(type(single_tuple))\n",
    "# output of string\n",
    "print(single_tuple)"
   ]
  },
  {
   "cell_type": "code",
   "execution_count": 10,
   "id": "a85e352a",
   "metadata": {},
   "outputs": [
    {
     "name": "stdout",
     "output_type": "stream",
     "text": [
      "<class 'tuple'>\n",
      "('Hello',)\n"
     ]
    }
   ],
   "source": [
    "# with comma\n",
    "single_tuple = ('Hello',)\n",
    "print(type(single_tuple))\n",
    "# output of tuple\n",
    "print(single_tuple)"
   ]
  },
  {
   "cell_type": "code",
   "execution_count": 11,
   "id": "7e8699ee",
   "metadata": {},
   "outputs": [
    {
     "name": "stdout",
     "output_type": "stream",
     "text": [
      "('apple', 'banana', 'cherry', 'apple', 'cherry')\n"
     ]
    }
   ],
   "source": [
    "# Duplictes\n",
    "thistuple = (\"apple\",\"banana\",\"cherry\",\"apple\",\"cherry\")\n",
    "print(thistuple)"
   ]
  },
  {
   "cell_type": "code",
   "execution_count": 12,
   "id": "2d185a85",
   "metadata": {},
   "outputs": [
    {
     "name": "stdout",
     "output_type": "stream",
     "text": [
      "6\n"
     ]
    }
   ],
   "source": [
    "tuple1 = ('P','Y','T','H','O','N')\n",
    "# length of a tuple\n",
    "print(len(tuple1))"
   ]
  },
  {
   "cell_type": "markdown",
   "id": "db8ef2e4",
   "metadata": {},
   "source": [
    "# Access Tuple Items."
   ]
  },
  {
   "cell_type": "code",
   "execution_count": 14,
   "id": "69ca6331",
   "metadata": {},
   "outputs": [
    {
     "name": "stdout",
     "output_type": "stream",
     "text": [
      "banana\n"
     ]
    }
   ],
   "source": [
    "#positive indexing\n",
    "thistuple = (\"apple\",\"banana\",\"cherry\")\n",
    "print(thistuple[1])\n"
   ]
  },
  {
   "cell_type": "code",
   "execution_count": 15,
   "id": "781867b0",
   "metadata": {},
   "outputs": [
    {
     "name": "stdout",
     "output_type": "stream",
     "text": [
      "cherry\n"
     ]
    }
   ],
   "source": [
    "#negative indexing\n",
    "thistuple = (\"apple\",\"banana\",\"cherry\")\n",
    "print(thistuple[-1])"
   ]
  },
  {
   "cell_type": "code",
   "execution_count": 17,
   "id": "6b720fd9",
   "metadata": {},
   "outputs": [
    {
     "name": "stdout",
     "output_type": "stream",
     "text": [
      "('cherry', 'orange', 'kiwi')\n"
     ]
    }
   ],
   "source": [
    "# Slicing\n",
    "thistuple = (\"apple\",\"banana\",\"cherry\",\"orange\",\"kiwi\",\"melon\",\"mango\")\n",
    "print(thistuple[2:5])"
   ]
  },
  {
   "cell_type": "code",
   "execution_count": 19,
   "id": "d76998c8",
   "metadata": {},
   "outputs": [
    {
     "name": "stdout",
     "output_type": "stream",
     "text": [
      "2\n"
     ]
    }
   ],
   "source": [
    "tuple1 = (10,20,30,40,50)\n",
    "# get index of item 30\n",
    "position = tuple1.index(30)\n",
    "print(position)"
   ]
  },
  {
   "cell_type": "code",
   "execution_count": 20,
   "id": "dc02e03f",
   "metadata": {},
   "outputs": [
    {
     "ename": "TypeError",
     "evalue": "'tuple' object does not support item assignment",
     "output_type": "error",
     "traceback": [
      "\u001b[1;31m---------------------------------------------------------------------------\u001b[0m",
      "\u001b[1;31mTypeError\u001b[0m                                 Traceback (most recent call last)",
      "\u001b[1;32m~\\AppData\\Local\\Temp/ipykernel_32628/262278422.py\u001b[0m in \u001b[0;36m<module>\u001b[1;34m\u001b[0m\n\u001b[0;32m      1\u001b[0m \u001b[1;31m# Immutable\u001b[0m\u001b[1;33m\u001b[0m\u001b[1;33m\u001b[0m\u001b[0m\n\u001b[1;32m----> 2\u001b[1;33m \u001b[0mthistuple\u001b[0m\u001b[1;33m[\u001b[0m\u001b[1;36m2\u001b[0m\u001b[1;33m]\u001b[0m \u001b[1;33m=\u001b[0m \u001b[1;34m'Muskmelon'\u001b[0m\u001b[1;33m\u001b[0m\u001b[1;33m\u001b[0m\u001b[0m\n\u001b[0m",
      "\u001b[1;31mTypeError\u001b[0m: 'tuple' object does not support item assignment"
     ]
    }
   ],
   "source": [
    "# Immutable\n",
    "thistuple[2] = 'Muskmelon'"
   ]
  },
  {
   "cell_type": "code",
   "execution_count": 23,
   "id": "40a73be8",
   "metadata": {},
   "outputs": [
    {
     "name": "stdout",
     "output_type": "stream",
     "text": [
      "True\n",
      "False\n"
     ]
    }
   ],
   "source": [
    "tuple1 = (10,20,30,40,50,60,70,80)\n",
    "# checking whether item 50 exists in tuple\n",
    "\n",
    "print(50 in tuple1)\n",
    "\n",
    "print(500 in tuple1)"
   ]
  },
  {
   "cell_type": "markdown",
   "id": "2860f257",
   "metadata": {},
   "source": [
    "# Tuple methods and Functions used with Tuple"
   ]
  },
  {
   "cell_type": "code",
   "execution_count": 25,
   "id": "88309809",
   "metadata": {},
   "outputs": [],
   "source": [
    "# we can convert the tuple to a list, add items, and then convert it back to a tuple."
   ]
  },
  {
   "cell_type": "code",
   "execution_count": 27,
   "id": "2463c671",
   "metadata": {},
   "outputs": [
    {
     "name": "stdout",
     "output_type": "stream",
     "text": [
      "[0, 1, 2, 3, 4, 5]\n",
      "[0, 1, 2, 3, 4, 5, 6]\n"
     ]
    }
   ],
   "source": [
    "tuple1 = (0, 1, 2, 3, 4, 5)\n",
    "\n",
    "# converting tuple into a list\n",
    "sample_list = list(tuple1)\n",
    "print(sample_list)\n",
    "\n",
    "# add item to list\n",
    "sample_list.append(6)\n",
    "\n",
    "print(sample_list)"
   ]
  },
  {
   "cell_type": "code",
   "execution_count": 28,
   "id": "70271a1a",
   "metadata": {},
   "outputs": [
    {
     "name": "stdout",
     "output_type": "stream",
     "text": [
      "(0, 1, 2, 3, 4, 5, 6)\n"
     ]
    }
   ],
   "source": [
    "# converting list back into a tuple\n",
    "tuple1 = tuple(sample_list)\n",
    "print(tuple1)"
   ]
  },
  {
   "cell_type": "code",
   "execution_count": 1,
   "id": "8ffc3a63",
   "metadata": {},
   "outputs": [
    {
     "name": "stdout",
     "output_type": "stream",
     "text": [
      "(10, 20, [25, 75, 85])\n",
      "(10, 20, [250, 75, 85])\n"
     ]
    }
   ],
   "source": [
    "#list in tuple can modify\n",
    "tuple1 = (10,20,[25,75,85])\n",
    "# before update\n",
    "print(tuple1)\n",
    "\n",
    "# modify last item's first value\n",
    "tuple1[2][0] = 250\n",
    "\n",
    "# after update\n",
    "print(tuple1)"
   ]
  },
  {
   "cell_type": "code",
   "execution_count": 2,
   "id": "120e66a2",
   "metadata": {},
   "outputs": [],
   "source": [
    "# Removing items from a tuple\n"
   ]
  },
  {
   "cell_type": "code",
   "execution_count": 3,
   "id": "4d26f523",
   "metadata": {},
   "outputs": [
    {
     "ename": "NameError",
     "evalue": "name 'sampletup1' is not defined",
     "output_type": "error",
     "traceback": [
      "\u001b[1;31m---------------------------------------------------------------------------\u001b[0m",
      "\u001b[1;31mNameError\u001b[0m                                 Traceback (most recent call last)",
      "\u001b[1;32m~\\AppData\\Local\\Temp/ipykernel_32912/576228569.py\u001b[0m in \u001b[0;36m<module>\u001b[1;34m\u001b[0m\n\u001b[0;32m      2\u001b[0m \u001b[0msampletup1\u001b[0m \u001b[1;33m=\u001b[0m \u001b[1;33m(\u001b[0m\u001b[1;36m0\u001b[0m\u001b[1;33m,\u001b[0m\u001b[1;36m1\u001b[0m\u001b[1;33m,\u001b[0m\u001b[1;36m2\u001b[0m\u001b[1;33m,\u001b[0m\u001b[1;36m3\u001b[0m\u001b[1;33m,\u001b[0m\u001b[1;36m4\u001b[0m\u001b[1;33m,\u001b[0m\u001b[1;36m5\u001b[0m\u001b[1;33m,\u001b[0m\u001b[1;36m6\u001b[0m\u001b[1;33m)\u001b[0m\u001b[1;33m\u001b[0m\u001b[1;33m\u001b[0m\u001b[0m\n\u001b[0;32m      3\u001b[0m \u001b[1;32mdel\u001b[0m \u001b[0msampletup1\u001b[0m\u001b[1;33m\u001b[0m\u001b[1;33m\u001b[0m\u001b[0m\n\u001b[1;32m----> 4\u001b[1;33m \u001b[0mprint\u001b[0m\u001b[1;33m(\u001b[0m\u001b[0msampletup1\u001b[0m\u001b[1;33m)\u001b[0m\u001b[1;33m\u001b[0m\u001b[1;33m\u001b[0m\u001b[0m\n\u001b[0m",
      "\u001b[1;31mNameError\u001b[0m: name 'sampletup1' is not defined"
     ]
    }
   ],
   "source": [
    "# #The del keyword will delete the entire tuple.\n",
    "sampletup1 = (0,1,2,3,4,5,6)\n",
    "del sampletup1\n",
    "print(sampletup1)"
   ]
  },
  {
   "cell_type": "code",
   "execution_count": 4,
   "id": "6aaf9187",
   "metadata": {},
   "outputs": [
    {
     "name": "stdout",
     "output_type": "stream",
     "text": [
      "(0, 1, 3, 4, 5)\n"
     ]
    }
   ],
   "source": [
    "tuple1 = (0,1,2,3,4,5)\n",
    "\n",
    "# converting tuple into a list\n",
    "\n",
    "sample_list = list(tuple1)\n",
    "\n",
    "# reomve 2nd item\n",
    "\n",
    "sample_list.remove(2)\n",
    "\n",
    "# converting list back into a tuple\n",
    "tuple1 = tuple(sample_list)\n",
    "print(tuple1)"
   ]
  },
  {
   "cell_type": "code",
   "execution_count": 5,
   "id": "3af0a3da",
   "metadata": {},
   "outputs": [
    {
     "data": {
      "text/plain": [
       "3"
      ]
     },
     "execution_count": 5,
     "metadata": {},
     "output_type": "execute_result"
    }
   ],
   "source": [
    "tuple1 = (10,20,60,30,60,40,60)\n",
    "# Count all occurrences of item 60\n",
    "tuple1.count(60)"
   ]
  },
  {
   "cell_type": "code",
   "execution_count": 6,
   "id": "9537e62d",
   "metadata": {},
   "outputs": [
    {
     "name": "stdout",
     "output_type": "stream",
     "text": [
      "(1, 2, 3, 4, 5, 6, 3, 4, 5, 6, 7, 8)\n"
     ]
    }
   ],
   "source": [
    "tuple1 = (1,2,3,4,5,6)\n",
    "tuple2 = (3,4,5,6,7,8)\n",
    "# concatenate tuples using + operator\n",
    "\n",
    "tuple3 = tuple1 + tuple2\n",
    "print(tuple3)"
   ]
  },
  {
   "cell_type": "code",
   "execution_count": 11,
   "id": "87be76ad",
   "metadata": {},
   "outputs": [
    {
     "name": "stdout",
     "output_type": "stream",
     "text": [
      "(1, 2, 3, 4, 5, 6, 3, 4, 5, 6, 7, 8)\n"
     ]
    }
   ],
   "source": [
    "tuple1 = (1,2,3,4,5,6)\n",
    "tuple2 = (3,4,5,6,7,8)\n",
    "\n",
    "# using sum function\n",
    "\n",
    "tuple3 = sum((tuple1, tuple2), ())\n",
    "print(tuple3)"
   ]
  },
  {
   "cell_type": "code",
   "execution_count": 12,
   "id": "6d2acc10",
   "metadata": {},
   "outputs": [
    {
     "name": "stdout",
     "output_type": "stream",
     "text": [
      "55\n"
     ]
    }
   ],
   "source": [
    "tuple1 = (11,12,55,20)\n",
    "# The Maximum value in a integer tuple\n",
    "print(max(tuple1))"
   ]
  },
  {
   "cell_type": "code",
   "execution_count": 18,
   "id": "64c8bf88",
   "metadata": {},
   "outputs": [
    {
     "name": "stdout",
     "output_type": "stream",
     "text": [
      "xyz\n"
     ]
    }
   ],
   "source": [
    "tuple2 = ('xyz', 'Zara', 'abc')\n",
    "\n",
    "# The Maximum value in a string tuple\n",
    "\n",
    "print(max(tuple2))"
   ]
  },
  {
   "cell_type": "code",
   "execution_count": 17,
   "id": "3096bba5",
   "metadata": {},
   "outputs": [
    {
     "name": "stdout",
     "output_type": "stream",
     "text": [
      "Zara\n"
     ]
    }
   ],
   "source": [
    "print(min(tuple2))"
   ]
  },
  {
   "cell_type": "code",
   "execution_count": 19,
   "id": "be0f299e",
   "metadata": {},
   "outputs": [
    {
     "name": "stdout",
     "output_type": "stream",
     "text": [
      "11\n"
     ]
    }
   ],
   "source": [
    "print(min(tuple1))"
   ]
  },
  {
   "cell_type": "code",
   "execution_count": 20,
   "id": "463e3bdc",
   "metadata": {},
   "outputs": [
    {
     "ename": "TypeError",
     "evalue": "'>' not supported between instances of 'int' and 'str'",
     "output_type": "error",
     "traceback": [
      "\u001b[1;31m---------------------------------------------------------------------------\u001b[0m",
      "\u001b[1;31mTypeError\u001b[0m                                 Traceback (most recent call last)",
      "\u001b[1;32m~\\AppData\\Local\\Temp/ipykernel_32912/552144147.py\u001b[0m in \u001b[0;36m<module>\u001b[1;34m\u001b[0m\n\u001b[0;32m      5\u001b[0m \u001b[1;31m# max item\u001b[0m\u001b[1;33m\u001b[0m\u001b[1;33m\u001b[0m\u001b[0m\n\u001b[0;32m      6\u001b[0m \u001b[1;33m\u001b[0m\u001b[0m\n\u001b[1;32m----> 7\u001b[1;33m \u001b[0mprint\u001b[0m\u001b[1;33m(\u001b[0m\u001b[0mmax\u001b[0m\u001b[1;33m(\u001b[0m\u001b[0mtuple3\u001b[0m\u001b[1;33m)\u001b[0m\u001b[1;33m)\u001b[0m\u001b[1;33m\u001b[0m\u001b[1;33m\u001b[0m\u001b[0m\n\u001b[0m",
      "\u001b[1;31mTypeError\u001b[0m: '>' not supported between instances of 'int' and 'str'"
     ]
    }
   ],
   "source": [
    "# can't use on heterogenous tuple\n",
    "\n",
    "tuple3 = ('a','e', 11, 22,15)\n",
    "\n",
    "# max item\n",
    "\n",
    "print(max(tuple3))"
   ]
  },
  {
   "cell_type": "code",
   "execution_count": null,
   "id": "966b2b3a",
   "metadata": {},
   "outputs": [],
   "source": [
    "#1.There are no append() or extend() to add items and similarly no remove() or pop() methods to removeitems. \n",
    "#This ensures that the data is write-protected. \n",
    "#As the tuples are Unchangeable, they can be used torepresent read-only or fixed data that does not change.\n",
    "#2.As they are immutable, they can be used as a key for the dictionaries, while lists cannot be used for thispurpose.\n",
    "#3.As they are immutable, the search operation is much faster than the lists. \n",
    "#This is because the id of theitems remains constant.\n",
    "#4.Tuples contain heterogeneous (all types) data that offers huge flexibility in data \n",
    "#that contains combinationsof data types like alphanumeric characters."
   ]
  }
 ],
 "metadata": {
  "kernelspec": {
   "display_name": "Python 3 (ipykernel)",
   "language": "python",
   "name": "python3"
  },
  "language_info": {
   "codemirror_mode": {
    "name": "ipython",
    "version": 3
   },
   "file_extension": ".py",
   "mimetype": "text/x-python",
   "name": "python",
   "nbconvert_exporter": "python",
   "pygments_lexer": "ipython3",
   "version": "3.9.7"
  }
 },
 "nbformat": 4,
 "nbformat_minor": 5
}
