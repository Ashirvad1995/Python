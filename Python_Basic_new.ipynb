{
 "cells": [
  {
   "cell_type": "code",
   "execution_count": 1,
   "id": "2ea1b215",
   "metadata": {},
   "outputs": [],
   "source": [
    "# Q. What is Python ?\n",
    "# Python is an interpreted, object-oriented, high level and Dynamic typing language."
   ]
  },
  {
   "cell_type": "code",
   "execution_count": 2,
   "id": "99a44bfe",
   "metadata": {},
   "outputs": [],
   "source": [
    "# Q. Why to learn Python ?\n",
    "# Python syntax are easy compared to other language."
   ]
  },
  {
   "cell_type": "code",
   "execution_count": 3,
   "id": "25558dcc",
   "metadata": {},
   "outputs": [],
   "source": [
    "# The print function in Python is a function that outputs to your console window whatever you say you want toprint out."
   ]
  },
  {
   "cell_type": "code",
   "execution_count": 4,
   "id": "6c3b827c",
   "metadata": {},
   "outputs": [
    {
     "name": "stdout",
     "output_type": "stream",
     "text": [
      "Hello Word\n"
     ]
    }
   ],
   "source": [
    "print(\"Hello Word\")"
   ]
  },
  {
   "cell_type": "code",
   "execution_count": 5,
   "id": "85d32498",
   "metadata": {},
   "outputs": [],
   "source": [
    "# Varialbe\n",
    "# Variable only start with alphabets."
   ]
  },
  {
   "cell_type": "code",
   "execution_count": 6,
   "id": "82a523ab",
   "metadata": {},
   "outputs": [],
   "source": [
    "a = 10"
   ]
  },
  {
   "cell_type": "code",
   "execution_count": 7,
   "id": "8d3db52f",
   "metadata": {},
   "outputs": [],
   "source": [
    "b = 20"
   ]
  },
  {
   "cell_type": "code",
   "execution_count": 8,
   "id": "f1da95cf",
   "metadata": {},
   "outputs": [
    {
     "name": "stdout",
     "output_type": "stream",
     "text": [
      "10\n"
     ]
    }
   ],
   "source": [
    "print(a)"
   ]
  },
  {
   "cell_type": "code",
   "execution_count": 9,
   "id": "7ff09169",
   "metadata": {},
   "outputs": [
    {
     "name": "stdout",
     "output_type": "stream",
     "text": [
      "10 20\n"
     ]
    }
   ],
   "source": [
    "print(a,b)"
   ]
  },
  {
   "cell_type": "code",
   "execution_count": 10,
   "id": "833b0795",
   "metadata": {},
   "outputs": [
    {
     "name": "stdout",
     "output_type": "stream",
     "text": [
      "2197978638928\n"
     ]
    }
   ],
   "source": [
    "print(id(a))"
   ]
  },
  {
   "cell_type": "code",
   "execution_count": 11,
   "id": "1949098b",
   "metadata": {},
   "outputs": [
    {
     "name": "stdout",
     "output_type": "stream",
     "text": [
      "2197978639248\n"
     ]
    }
   ],
   "source": [
    "print(id(b))"
   ]
  },
  {
   "cell_type": "code",
   "execution_count": 12,
   "id": "8b928ef2",
   "metadata": {},
   "outputs": [
    {
     "name": "stdout",
     "output_type": "stream",
     "text": [
      "2197978639248\n"
     ]
    }
   ],
   "source": [
    "c = 20\n",
    "print(id(c))"
   ]
  },
  {
   "cell_type": "code",
   "execution_count": 13,
   "id": "0f4a7aec",
   "metadata": {},
   "outputs": [
    {
     "name": "stdout",
     "output_type": "stream",
     "text": [
      "10\n"
     ]
    }
   ],
   "source": [
    "_ = 10\n",
    "print(_)"
   ]
  },
  {
   "cell_type": "code",
   "execution_count": 15,
   "id": "94fe567e",
   "metadata": {},
   "outputs": [
    {
     "name": "stdout",
     "output_type": "stream",
     "text": [
      "5\n"
     ]
    }
   ],
   "source": [
    "a1 = 5\n",
    "print(a1)"
   ]
  },
  {
   "cell_type": "code",
   "execution_count": 17,
   "id": "cd773044",
   "metadata": {},
   "outputs": [
    {
     "ename": "SyntaxError",
     "evalue": "invalid syntax (Temp/ipykernel_24824/91707331.py, line 1)",
     "output_type": "error",
     "traceback": [
      "\u001b[1;36m  File \u001b[1;32m\"C:\\Users\\ASHIRVAD\\AppData\\Local\\Temp/ipykernel_24824/91707331.py\"\u001b[1;36m, line \u001b[1;32m1\u001b[0m\n\u001b[1;33m    1a = 6\u001b[0m\n\u001b[1;37m     ^\u001b[0m\n\u001b[1;31mSyntaxError\u001b[0m\u001b[1;31m:\u001b[0m invalid syntax\n"
     ]
    }
   ],
   "source": [
    "1a = 6\n",
    "print(1a)"
   ]
  },
  {
   "cell_type": "code",
   "execution_count": 18,
   "id": "85c88c84",
   "metadata": {},
   "outputs": [
    {
     "name": "stdout",
     "output_type": "stream",
     "text": [
      "15\n"
     ]
    }
   ],
   "source": [
    "a_b = 15\n",
    "print(a_b)"
   ]
  },
  {
   "cell_type": "code",
   "execution_count": 19,
   "id": "72bfd3c1",
   "metadata": {},
   "outputs": [
    {
     "name": "stdout",
     "output_type": "stream",
     "text": [
      "a_b\n"
     ]
    }
   ],
   "source": [
    "print('a_b')"
   ]
  },
  {
   "cell_type": "code",
   "execution_count": 20,
   "id": "89b67654",
   "metadata": {},
   "outputs": [
    {
     "ename": "SyntaxError",
     "evalue": "invalid syntax (Temp/ipykernel_24824/3458530810.py, line 1)",
     "output_type": "error",
     "traceback": [
      "\u001b[1;36m  File \u001b[1;32m\"C:\\Users\\ASHIRVAD\\AppData\\Local\\Temp/ipykernel_24824/3458530810.py\"\u001b[1;36m, line \u001b[1;32m1\u001b[0m\n\u001b[1;33m    @a = 25\u001b[0m\n\u001b[1;37m       ^\u001b[0m\n\u001b[1;31mSyntaxError\u001b[0m\u001b[1;31m:\u001b[0m invalid syntax\n"
     ]
    }
   ],
   "source": [
    "@a = 25\n",
    "print(@a)"
   ]
  },
  {
   "cell_type": "code",
   "execution_count": 22,
   "id": "87fced30",
   "metadata": {},
   "outputs": [
    {
     "name": "stdout",
     "output_type": "stream",
     "text": [
      "25\n"
     ]
    }
   ],
   "source": [
    "_a = 25\n",
    "print(_a)"
   ]
  },
  {
   "cell_type": "code",
   "execution_count": 23,
   "id": "463cb89a",
   "metadata": {},
   "outputs": [],
   "source": [
    "# String Concantenation / join two string variables."
   ]
  },
  {
   "cell_type": "code",
   "execution_count": 24,
   "id": "f216e966",
   "metadata": {},
   "outputs": [],
   "source": [
    "a = 'Hello'"
   ]
  },
  {
   "cell_type": "code",
   "execution_count": 25,
   "id": "d51bc6a8",
   "metadata": {},
   "outputs": [],
   "source": [
    "b = 'Net tech India'"
   ]
  },
  {
   "cell_type": "code",
   "execution_count": 28,
   "id": "e2b78321",
   "metadata": {},
   "outputs": [
    {
     "name": "stdout",
     "output_type": "stream",
     "text": [
      "Hello Net tech India\n"
     ]
    }
   ],
   "source": [
    "print(a+\" \"+b)"
   ]
  },
  {
   "cell_type": "code",
   "execution_count": 29,
   "id": "48750c58",
   "metadata": {},
   "outputs": [],
   "source": [
    "c = 20"
   ]
  },
  {
   "cell_type": "code",
   "execution_count": 30,
   "id": "ff66c97c",
   "metadata": {},
   "outputs": [
    {
     "name": "stdout",
     "output_type": "stream",
     "text": [
      "50\n"
     ]
    }
   ],
   "source": [
    "print(c+30)"
   ]
  },
  {
   "cell_type": "code",
   "execution_count": 31,
   "id": "ec533ad7",
   "metadata": {},
   "outputs": [
    {
     "ename": "TypeError",
     "evalue": "can only concatenate str (not \"int\") to str",
     "output_type": "error",
     "traceback": [
      "\u001b[1;31m---------------------------------------------------------------------------\u001b[0m",
      "\u001b[1;31mTypeError\u001b[0m                                 Traceback (most recent call last)",
      "\u001b[1;32m~\\AppData\\Local\\Temp/ipykernel_24824/4222838292.py\u001b[0m in \u001b[0;36m<module>\u001b[1;34m\u001b[0m\n\u001b[1;32m----> 1\u001b[1;33m \u001b[0mprint\u001b[0m\u001b[1;33m(\u001b[0m\u001b[0ma\u001b[0m\u001b[1;33m+\u001b[0m\u001b[0mc\u001b[0m\u001b[1;33m)\u001b[0m\u001b[1;33m\u001b[0m\u001b[1;33m\u001b[0m\u001b[0m\n\u001b[0m",
      "\u001b[1;31mTypeError\u001b[0m: can only concatenate str (not \"int\") to str"
     ]
    }
   ],
   "source": [
    "print(a+c)"
   ]
  },
  {
   "cell_type": "code",
   "execution_count": 32,
   "id": "0a2c4069",
   "metadata": {},
   "outputs": [],
   "source": [
    "d = \"50\""
   ]
  },
  {
   "cell_type": "code",
   "execution_count": 33,
   "id": "9179b118",
   "metadata": {},
   "outputs": [
    {
     "name": "stdout",
     "output_type": "stream",
     "text": [
      "Hello50\n"
     ]
    }
   ],
   "source": [
    "print(a+d)"
   ]
  },
  {
   "cell_type": "code",
   "execution_count": 34,
   "id": "50ed397b",
   "metadata": {},
   "outputs": [
    {
     "name": "stdout",
     "output_type": "stream",
     "text": [
      "10\n",
      "Sanvee\n"
     ]
    },
    {
     "ename": "NameError",
     "evalue": "name 'hello' is not defined",
     "output_type": "error",
     "traceback": [
      "\u001b[1;31m---------------------------------------------------------------------------\u001b[0m",
      "\u001b[1;31mNameError\u001b[0m                                 Traceback (most recent call last)",
      "\u001b[1;32m~\\AppData\\Local\\Temp/ipykernel_24824/192538096.py\u001b[0m in \u001b[0;36m<module>\u001b[1;34m\u001b[0m\n\u001b[0;32m      3\u001b[0m \u001b[0mb\u001b[0m \u001b[1;33m=\u001b[0m \u001b[1;34m\"Sanvee\"\u001b[0m\u001b[1;33m\u001b[0m\u001b[1;33m\u001b[0m\u001b[0m\n\u001b[0;32m      4\u001b[0m \u001b[0mprint\u001b[0m\u001b[1;33m(\u001b[0m\u001b[0mb\u001b[0m\u001b[1;33m)\u001b[0m\u001b[1;33m\u001b[0m\u001b[1;33m\u001b[0m\u001b[0m\n\u001b[1;32m----> 5\u001b[1;33m \u001b[0mc\u001b[0m \u001b[1;33m=\u001b[0m \u001b[0mhello\u001b[0m\u001b[1;33m\u001b[0m\u001b[1;33m\u001b[0m\u001b[0m\n\u001b[0m\u001b[0;32m      6\u001b[0m \u001b[0mprint\u001b[0m\u001b[1;33m(\u001b[0m\u001b[0mc\u001b[0m\u001b[1;33m)\u001b[0m\u001b[1;33m\u001b[0m\u001b[1;33m\u001b[0m\u001b[0m\n",
      "\u001b[1;31mNameError\u001b[0m: name 'hello' is not defined"
     ]
    }
   ],
   "source": [
    "a = 10\n",
    "print(a)\n",
    "b = \"Sanvee\"\n",
    "print(b)\n",
    "c = hello\n",
    "print(c)"
   ]
  },
  {
   "cell_type": "code",
   "execution_count": 35,
   "id": "30371e3c",
   "metadata": {},
   "outputs": [],
   "source": [
    "# Keyword\n",
    "# Keyword are the reserved words in python.\n",
    "# The reserved word cannot be used as function name, variable name, and any other indetifier."
   ]
  },
  {
   "cell_type": "code",
   "execution_count": 36,
   "id": "e4a41e65",
   "metadata": {},
   "outputs": [],
   "source": [
    "# and | as | break| class |\n",
    "# continue | def |del |elif | else | except | False |\n",
    "# finally |for | from | global | if| import | in |\n",
    "# is| lamba | None | nonlocal | not | or | pass |\n",
    "# raise | return | True | try | while | with | yield"
   ]
  },
  {
   "cell_type": "code",
   "execution_count": 37,
   "id": "85ce4ed0",
   "metadata": {},
   "outputs": [
    {
     "name": "stdout",
     "output_type": "stream",
     "text": [
      "\n",
      "Here is a list of the Python keywords.  Enter any keyword to get more help.\n",
      "\n",
      "False               break               for                 not\n",
      "None                class               from                or\n",
      "True                continue            global              pass\n",
      "__peg_parser__      def                 if                  raise\n",
      "and                 del                 import              return\n",
      "as                  elif                in                  try\n",
      "assert              else                is                  while\n",
      "async               except              lambda              with\n",
      "await               finally             nonlocal            yield\n",
      "\n"
     ]
    }
   ],
   "source": [
    "help(\"keywords\")"
   ]
  },
  {
   "cell_type": "code",
   "execution_count": 38,
   "id": "4fa0330b",
   "metadata": {},
   "outputs": [],
   "source": [
    "# Statements.\n",
    "# Instruction that you are write in your code and that python interpreter can execute are called statements."
   ]
  },
  {
   "cell_type": "code",
   "execution_count": 39,
   "id": "91b9d26a",
   "metadata": {},
   "outputs": [
    {
     "name": "stdout",
     "output_type": "stream",
     "text": [
      "9\n"
     ]
    }
   ],
   "source": [
    "a = 1+3+5\n",
    "print(a)"
   ]
  },
  {
   "cell_type": "code",
   "execution_count": 41,
   "id": "3b75221c",
   "metadata": {},
   "outputs": [],
   "source": [
    "#Comments\n",
    "#Comments are nothing but the sentences that the python interpreter ignores."
   ]
  },
  {
   "cell_type": "code",
   "execution_count": 42,
   "id": "33ac4923",
   "metadata": {},
   "outputs": [
    {
     "name": "stdout",
     "output_type": "stream",
     "text": [
      "2\n"
     ]
    }
   ],
   "source": [
    "# this is comment\n",
    "print(2)"
   ]
  },
  {
   "cell_type": "code",
   "execution_count": 43,
   "id": "e3795adc",
   "metadata": {},
   "outputs": [
    {
     "name": "stdout",
     "output_type": "stream",
     "text": [
      "Hello Word!\n"
     ]
    }
   ],
   "source": [
    "\"\"\"start my comment from this line...\n",
    "still the comment...\n",
    "still the comment...\n",
    "okay finished :)\"\"\"\n",
    "print(\"Hello Word!\")"
   ]
  },
  {
   "cell_type": "code",
   "execution_count": 44,
   "id": "b5a96673",
   "metadata": {},
   "outputs": [
    {
     "name": "stdout",
     "output_type": "stream",
     "text": [
      "Hello Word!\n"
     ]
    }
   ],
   "source": [
    "'''start my comment from this line...\n",
    "still the comment...\n",
    "still the comment...\n",
    "okay finished :)'''\n",
    "print(\"Hello Word!\")"
   ]
  },
  {
   "cell_type": "code",
   "execution_count": 45,
   "id": "e4cd8b56",
   "metadata": {},
   "outputs": [
    {
     "data": {
      "text/plain": [
       "'Indentation in Python refers to the (spaces and tabs) that are used at the beginning of a statement or a code we write'"
      ]
     },
     "execution_count": 45,
     "metadata": {},
     "output_type": "execute_result"
    }
   ],
   "source": [
    "#Indentation\n",
    "\"\"\"Indentation in Python refers to the (spaces and tabs) that are used at the beginning of a statement or a code we write\"\"\""
   ]
  },
  {
   "cell_type": "code",
   "execution_count": 46,
   "id": "6c80601b",
   "metadata": {},
   "outputs": [],
   "source": [
    "#using indentation for a bunch of codes is extremely elegant and contributes a lot to the clarity of\n",
    "#our code starts looking well organised and more readable."
   ]
  },
  {
   "cell_type": "code",
   "execution_count": 49,
   "id": "c106ed0b",
   "metadata": {},
   "outputs": [],
   "source": [
    "### DATA Type\n",
    "1. Integer\n",
    "2. Float\n",
    "3. Complex\n",
    "4. String\n",
    "5. List\n",
    "6. Tuple\n",
    "7. Set\n",
    "8. Dictionary\n",
    "9. Boolean\n",
    "10.Range\n",
    "11.Array"
   ]
  },
  {
   "cell_type": "code",
   "execution_count": 50,
   "id": "4230bf58",
   "metadata": {},
   "outputs": [
    {
     "name": "stdout",
     "output_type": "stream",
     "text": [
      "<class 'int'>\n"
     ]
    }
   ],
   "source": [
    "#we can use type function to get the type information of a value.\n",
    "a = 10\n",
    "print(type(a))"
   ]
  },
  {
   "cell_type": "code",
   "execution_count": 51,
   "id": "75b9974b",
   "metadata": {},
   "outputs": [
    {
     "name": "stdout",
     "output_type": "stream",
     "text": [
      "<class 'float'>\n"
     ]
    }
   ],
   "source": [
    "b = 10.0\n",
    "print(type(b))"
   ]
  },
  {
   "cell_type": "code",
   "execution_count": 52,
   "id": "8b092a5e",
   "metadata": {},
   "outputs": [
    {
     "name": "stdout",
     "output_type": "stream",
     "text": [
      "<class 'complex'>\n"
     ]
    }
   ],
   "source": [
    "#A complex number is a number with a real and an imaginary component represented as a+bj\n",
    "c = 10j\n",
    "print(type(c))"
   ]
  },
  {
   "cell_type": "code",
   "execution_count": 54,
   "id": "9c01f4a2",
   "metadata": {},
   "outputs": [
    {
     "name": "stdout",
     "output_type": "stream",
     "text": [
      "Welcome to NetTech India\n",
      "<class 'str'>\n"
     ]
    }
   ],
   "source": [
    "var=\"Welcome to NetTech India\"\n",
    "print(var)\n",
    "print(type(var))"
   ]
  },
  {
   "cell_type": "code",
   "execution_count": 56,
   "id": "2a402da6",
   "metadata": {},
   "outputs": [
    {
     "name": "stdout",
     "output_type": "stream",
     "text": [
      "<class 'list'>\n"
     ]
    }
   ],
   "source": [
    "#The Python List is an ordered collection (also known as a sequence ) of elements.\n",
    "List = [\"apple\", \"cherry\", \"Banana\"]\n",
    "print(type(List))"
   ]
  },
  {
   "cell_type": "code",
   "execution_count": 57,
   "id": "6983b8c9",
   "metadata": {},
   "outputs": [
    {
     "name": "stdout",
     "output_type": "stream",
     "text": [
      "<class 'tuple'>\n"
     ]
    }
   ],
   "source": [
    "#Tuples are ordered collections of elements that are unchangeable.\n",
    "Tuple = (\"apple\", \"banana\", \"Cherry\")\n",
    "print(type(Tuple))"
   ]
  },
  {
   "cell_type": "code",
   "execution_count": 58,
   "id": "3d907c71",
   "metadata": {},
   "outputs": [
    {
     "name": "stdout",
     "output_type": "stream",
     "text": [
      "<class 'set'>\n"
     ]
    }
   ],
   "source": [
    "#a set is an unordered collection of data items that are unique.\n",
    "Set = {\"apple\",\"banana\",\"cherry\"}\n",
    "print(type(Set))"
   ]
  },
  {
   "cell_type": "code",
   "execution_count": 59,
   "id": "6426bd90",
   "metadata": {},
   "outputs": [
    {
     "name": "stdout",
     "output_type": "stream",
     "text": [
      "<class 'dict'>\n"
     ]
    }
   ],
   "source": [
    "#dictionaries are unordered collections of unique values stored in (Key-Value) pairs.\n",
    "Dictionary = {\"name\":\"sanvee\"}\n",
    "print(type(Dictionary))"
   ]
  },
  {
   "cell_type": "code",
   "execution_count": 61,
   "id": "fe3537d5",
   "metadata": {},
   "outputs": [
    {
     "name": "stdout",
     "output_type": "stream",
     "text": [
      "True\n",
      "False\n"
     ]
    }
   ],
   "source": [
    "#to represent boolean values (True and False) we use the bool data type.\n",
    "print(20>10)\n",
    "print(20<10)"
   ]
  },
  {
   "cell_type": "code",
   "execution_count": 62,
   "id": "e6cd9b72",
   "metadata": {},
   "outputs": [
    {
     "name": "stdout",
     "output_type": "stream",
     "text": [
      "True\n",
      "<class 'bool'>\n"
     ]
    }
   ],
   "source": [
    "x = 25\n",
    "y = 20\n",
    "\n",
    "z = x > y\n",
    "print(z)\n",
    "print(type(z))"
   ]
  },
  {
   "cell_type": "code",
   "execution_count": 72,
   "id": "6518387b",
   "metadata": {},
   "outputs": [
    {
     "name": "stdout",
     "output_type": "stream",
     "text": [
      "<class 'range'>\n"
     ]
    }
   ],
   "source": [
    "#The built-in function range() used to generate a sequence of numbers from a start number.\n",
    "numbers = range(10, 15, 1)\n",
    "print(type(numbers))"
   ]
  },
  {
   "cell_type": "code",
   "execution_count": 73,
   "id": "679f8b58",
   "metadata": {},
   "outputs": [],
   "source": [
    "numbers = range(10, 15, 2)"
   ]
  },
  {
   "cell_type": "code",
   "execution_count": 74,
   "id": "d013c966",
   "metadata": {},
   "outputs": [],
   "source": [
    "# Dynamic typing and Static Typing\n",
    "### In python, variable are the  reserve memory location to store the values.Python is a dynamically typed language,\n",
    "# which is not required to mention the type of variable while declaring. It performs the type checking at run time.\n",
    "### In statically typed programming language which is required to mention the type of variable while while declairing.\n",
    "# It perform the type checking at compile time."
   ]
  },
  {
   "cell_type": "code",
   "execution_count": 75,
   "id": "7914783e",
   "metadata": {},
   "outputs": [
    {
     "name": "stdout",
     "output_type": "stream",
     "text": [
      "hello word\n"
     ]
    }
   ],
   "source": [
    "msg = \"hello word\"\n",
    "print(msg)"
   ]
  },
  {
   "cell_type": "code",
   "execution_count": 1,
   "id": "12300d9d",
   "metadata": {},
   "outputs": [],
   "source": [
    "# Input and Output"
   ]
  },
  {
   "cell_type": "code",
   "execution_count": 2,
   "id": "53270979",
   "metadata": {},
   "outputs": [],
   "source": [
    "# Until now the values were defined to the variables. In some cases user might want to input values to variables,\n",
    "# which allows flexibility."
   ]
  },
  {
   "cell_type": "code",
   "execution_count": 3,
   "id": "9cf4f3f6",
   "metadata": {},
   "outputs": [
    {
     "name": "stdout",
     "output_type": "stream",
     "text": [
      "Enter your name :ASHIRVAD DESAI\n",
      "My name is  ASHIRVAD DESAI\n"
     ]
    }
   ],
   "source": [
    "my_name = input(\"Enter your name :\")\n",
    "print(\"My name is \", my_name)"
   ]
  },
  {
   "cell_type": "code",
   "execution_count": 4,
   "id": "7f653938",
   "metadata": {},
   "outputs": [
    {
     "name": "stdout",
     "output_type": "stream",
     "text": [
      "Enter number :19\n",
      "My favourite number : 19\n"
     ]
    }
   ],
   "source": [
    "my_number = input(\"Enter number :\")\n",
    "print(\"My favourite number :\", my_number)\n"
   ]
  },
  {
   "cell_type": "code",
   "execution_count": 5,
   "id": "bb689af2",
   "metadata": {},
   "outputs": [
    {
     "name": "stdout",
     "output_type": "stream",
     "text": [
      "<class 'str'>\n"
     ]
    }
   ],
   "source": [
    "print(type(my_number))"
   ]
  },
  {
   "cell_type": "code",
   "execution_count": 6,
   "id": "3c6dc7ee",
   "metadata": {},
   "outputs": [
    {
     "name": "stdout",
     "output_type": "stream",
     "text": [
      "Enter number :19\n",
      "Number is :  19\n",
      "<class 'int'>\n"
     ]
    }
   ],
   "source": [
    "my_number1 = int(input(\"Enter number :\"))\n",
    "print(\"Number is : \", my_number1)\n",
    "print(type(my_number1))"
   ]
  },
  {
   "cell_type": "code",
   "execution_count": 7,
   "id": "993bf196",
   "metadata": {},
   "outputs": [],
   "source": [
    "#Operators.\n"
   ]
  },
  {
   "cell_type": "code",
   "execution_count": null,
   "id": "ce73cd6e",
   "metadata": {},
   "outputs": [],
   "source": [
    "# Arithmatic Operator\n",
    "1. Addition(+)\n",
    "2. Substraction(-)\n",
    "3. Multiplication(*)\n",
    "4. Division(/)\n",
    "5. Floor Division(//)\n",
    "6. Module(%)\n",
    "7. Exponent(**)"
   ]
  },
  {
   "cell_type": "code",
   "execution_count": 8,
   "id": "018d5cda",
   "metadata": {},
   "outputs": [
    {
     "name": "stdout",
     "output_type": "stream",
     "text": [
      "50\n"
     ]
    }
   ],
   "source": [
    "# Addition\n",
    "x = 10\n",
    "y = 40\n",
    "print(x+y)"
   ]
  },
  {
   "cell_type": "code",
   "execution_count": 9,
   "id": "e05ea642",
   "metadata": {},
   "outputs": [
    {
     "name": "stdout",
     "output_type": "stream",
     "text": [
      "30\n"
     ]
    }
   ],
   "source": [
    "# Substraction\n",
    "x = 10\n",
    "y = 40\n",
    "print(y-x)"
   ]
  },
  {
   "cell_type": "code",
   "execution_count": 10,
   "id": "a625caae",
   "metadata": {},
   "outputs": [
    {
     "name": "stdout",
     "output_type": "stream",
     "text": [
      "8\n"
     ]
    }
   ],
   "source": [
    "# Multiplication\n",
    "x = 2\n",
    "y = 4\n",
    "print(x*y)"
   ]
  },
  {
   "cell_type": "code",
   "execution_count": 11,
   "id": "f34d42a6",
   "metadata": {},
   "outputs": [
    {
     "name": "stdout",
     "output_type": "stream",
     "text": [
      "2.0\n"
     ]
    }
   ],
   "source": [
    "# Division\n",
    "x = 2\n",
    "y = 4\n",
    "print(y/x)"
   ]
  },
  {
   "cell_type": "code",
   "execution_count": 12,
   "id": "dd54ea0e",
   "metadata": {},
   "outputs": [
    {
     "name": "stdout",
     "output_type": "stream",
     "text": [
      "1.8181818181818181\n",
      "1.0\n"
     ]
    }
   ],
   "source": [
    "#Floor Division(It returns the quotient (the result of division) in which digit after decimal point it gives round value.\n",
    "x = 2.2\n",
    "y = 4\n",
    "# normal division\n",
    "print(y/x)\n",
    "print(y//x)"
   ]
  },
  {
   "cell_type": "code",
   "execution_count": 13,
   "id": "af447d52",
   "metadata": {},
   "outputs": [
    {
     "name": "stdout",
     "output_type": "stream",
     "text": [
      "3\n"
     ]
    }
   ],
   "source": [
    "#Modulus(The remainder of the division)\n",
    "x = 15\n",
    "y = 4\n",
    "print(x%y)"
   ]
  },
  {
   "cell_type": "code",
   "execution_count": 14,
   "id": "fd82c9f1",
   "metadata": {},
   "outputs": [
    {
     "name": "stdout",
     "output_type": "stream",
     "text": [
      "4\n"
     ]
    }
   ],
   "source": [
    "#Exponent(power of a number)\n",
    "num = 2\n",
    "# 2*2\n",
    "print(num**2)"
   ]
  },
  {
   "cell_type": "code",
   "execution_count": 15,
   "id": "f40c990a",
   "metadata": {},
   "outputs": [
    {
     "name": "stdout",
     "output_type": "stream",
     "text": [
      "9\n"
     ]
    }
   ],
   "source": [
    "num1 = 3\n",
    "# 3*3\n",
    "print(num1**2)"
   ]
  },
  {
   "cell_type": "code",
   "execution_count": 16,
   "id": "9b6cc0b6",
   "metadata": {},
   "outputs": [],
   "source": [
    "# Relational Operator"
   ]
  },
  {
   "cell_type": "code",
   "execution_count": null,
   "id": "e4c2ff48",
   "metadata": {},
   "outputs": [],
   "source": [
    "1. Greater than(>)\n",
    "2. Less than(<)\n",
    "3. Equal to (==)\n",
    "4. Not Equal to (!=)\n",
    "5. Greater than equal to(>=)\n",
    "6. Less than equal to(<=)"
   ]
  },
  {
   "cell_type": "code",
   "execution_count": 17,
   "id": "0b6b1238",
   "metadata": {},
   "outputs": [
    {
     "name": "stdout",
     "output_type": "stream",
     "text": [
      "True\n",
      "False\n"
     ]
    }
   ],
   "source": [
    "# Greater than \n",
    "x = 10\n",
    "y = 5\n",
    "print(x>y)\n",
    "# Less than\n",
    "print(x<y)"
   ]
  },
  {
   "cell_type": "code",
   "execution_count": 18,
   "id": "4b96cc4b",
   "metadata": {},
   "outputs": [
    {
     "name": "stdout",
     "output_type": "stream",
     "text": [
      "False\n",
      "True\n"
     ]
    }
   ],
   "source": [
    "# Equal to\n",
    "print(x==y)\n",
    "print(x==10)"
   ]
  },
  {
   "cell_type": "code",
   "execution_count": 19,
   "id": "87a87e0b",
   "metadata": {},
   "outputs": [
    {
     "name": "stdout",
     "output_type": "stream",
     "text": [
      "True\n",
      "True\n"
     ]
    }
   ],
   "source": [
    "# Greater than equal to\n",
    "print(x >= y)\n",
    "print(10 >= x)"
   ]
  },
  {
   "cell_type": "code",
   "execution_count": 20,
   "id": "2c903336",
   "metadata": {},
   "outputs": [
    {
     "name": "stdout",
     "output_type": "stream",
     "text": [
      "False\n",
      "True\n"
     ]
    }
   ],
   "source": [
    "# Less than equal to\n",
    "print(x <= y)\n",
    "print(10 <= x)"
   ]
  },
  {
   "cell_type": "code",
   "execution_count": null,
   "id": "059d73db",
   "metadata": {},
   "outputs": [],
   "source": [
    "# Assignment operator\n",
    "1. Assign(=)\n",
    "2. Add and Assign (+=)\n",
    "3. Substract and Assign (-=)\n",
    "4. Multiply and Assign (*=)\n",
    "5. Division and Assign (/=)\n",
    "6. Floor Division and Assign (//=)\n",
    "7. Module and Assign (%=)\n",
    "8. Exponent and Assign (**=)"
   ]
  },
  {
   "cell_type": "code",
   "execution_count": 21,
   "id": "fd7d7928",
   "metadata": {},
   "outputs": [
    {
     "name": "stdout",
     "output_type": "stream",
     "text": [
      "6\n"
     ]
    }
   ],
   "source": [
    "# Add and assign\n",
    "a = 4\n",
    "b = 2\n",
    "\n",
    "a += b\n",
    "print(a)"
   ]
  },
  {
   "cell_type": "code",
   "execution_count": 22,
   "id": "0bffbcbd",
   "metadata": {},
   "outputs": [
    {
     "name": "stdout",
     "output_type": "stream",
     "text": [
      "2\n"
     ]
    }
   ],
   "source": [
    "# Substract and Assign\n",
    "a = 4\n",
    "\n",
    "a -= b\n",
    "\n",
    "print(a)"
   ]
  },
  {
   "cell_type": "code",
   "execution_count": 23,
   "id": "31ca7246",
   "metadata": {},
   "outputs": [
    {
     "name": "stdout",
     "output_type": "stream",
     "text": [
      "8\n"
     ]
    }
   ],
   "source": [
    "# Multiply and Assign\n",
    "a = 4\n",
    "\n",
    "a*=2\n",
    "\n",
    "print(a)"
   ]
  },
  {
   "cell_type": "code",
   "execution_count": 24,
   "id": "4ff17826",
   "metadata": {},
   "outputs": [
    {
     "name": "stdout",
     "output_type": "stream",
     "text": [
      "2.0\n"
     ]
    }
   ],
   "source": [
    "# Division and Assign\n",
    "\n",
    "a = 4\n",
    "\n",
    "a /= b\n",
    "\n",
    "print(a)"
   ]
  },
  {
   "cell_type": "code",
   "execution_count": 25,
   "id": "1acf5a79",
   "metadata": {},
   "outputs": [
    {
     "name": "stdout",
     "output_type": "stream",
     "text": [
      "16\n"
     ]
    }
   ],
   "source": [
    "# Exponent and Assign\n",
    "\n",
    "a = 4\n",
    "\n",
    "a **= b\n",
    "\n",
    "print(a)"
   ]
  },
  {
   "cell_type": "code",
   "execution_count": 26,
   "id": "c0adddec",
   "metadata": {},
   "outputs": [
    {
     "name": "stdout",
     "output_type": "stream",
     "text": [
      "1\n"
     ]
    }
   ],
   "source": [
    "# Module and Assign\n",
    "\n",
    "a = 5\n",
    "\n",
    "a %= b\n",
    "\n",
    "print(a)"
   ]
  },
  {
   "cell_type": "code",
   "execution_count": 27,
   "id": "38494d74",
   "metadata": {},
   "outputs": [
    {
     "name": "stdout",
     "output_type": "stream",
     "text": [
      "2\n"
     ]
    }
   ],
   "source": [
    "# Floor division and Assign\n",
    "\n",
    "a = 4\n",
    "\n",
    "a //= b\n",
    "\n",
    "print(a)"
   ]
  },
  {
   "cell_type": "code",
   "execution_count": null,
   "id": "cc771896",
   "metadata": {},
   "outputs": [],
   "source": [
    "# Logical Operator\n",
    "1.and : The logical and operator returns True if both expressions are True.\n",
    "2.or : The logical or the operator returns a boolean True if one expression is true.\n",
    "3.not : The logical not operator returns boolean True if the expression is false."
   ]
  },
  {
   "cell_type": "code",
   "execution_count": 29,
   "id": "7c423efc",
   "metadata": {},
   "outputs": [
    {
     "name": "stdout",
     "output_type": "stream",
     "text": [
      "True\n"
     ]
    }
   ],
   "source": [
    "# and operator\n",
    "x = 5\n",
    "\n",
    "print(x > 3 and x < 10)"
   ]
  },
  {
   "cell_type": "code",
   "execution_count": 30,
   "id": "66291ae7",
   "metadata": {},
   "outputs": [
    {
     "name": "stdout",
     "output_type": "stream",
     "text": [
      "20\n",
      "5\n",
      "300\n"
     ]
    }
   ],
   "source": [
    "#In the case of arithmetic values, Logical and always returns the second value\n",
    "print(10 and 20)\n",
    "print(10 and 5)\n",
    "print(100 and 300)"
   ]
  },
  {
   "cell_type": "code",
   "execution_count": 31,
   "id": "4a5e19e2",
   "metadata": {},
   "outputs": [
    {
     "name": "stdout",
     "output_type": "stream",
     "text": [
      "True\n"
     ]
    }
   ],
   "source": [
    "# or operator\n",
    "\n",
    "x = 5\n",
    "\n",
    "print(x > 3 or x < 4)"
   ]
  },
  {
   "cell_type": "code",
   "execution_count": 32,
   "id": "825a476a",
   "metadata": {},
   "outputs": [
    {
     "name": "stdout",
     "output_type": "stream",
     "text": [
      "10\n",
      "10\n",
      "100\n"
     ]
    }
   ],
   "source": [
    "#In the case of arithmetic values, Logical or it always returns the first value\n",
    "print(10 or 20)\n",
    "print(10 or 5)\n",
    "print(100 or 300)"
   ]
  },
  {
   "cell_type": "code",
   "execution_count": 36,
   "id": "b5314191",
   "metadata": {},
   "outputs": [
    {
     "name": "stdout",
     "output_type": "stream",
     "text": [
      "False\n"
     ]
    }
   ],
   "source": [
    "x = 5\n",
    "\n",
    "print(not(x>3))"
   ]
  },
  {
   "cell_type": "code",
   "execution_count": 37,
   "id": "0f3eee1b",
   "metadata": {},
   "outputs": [
    {
     "name": "stdout",
     "output_type": "stream",
     "text": [
      "False\n",
      "True\n"
     ]
    }
   ],
   "source": [
    "#In the case of arithmetic values, Logical not always return False for nonzero value.\n",
    "print(not 10) # False. Non-zero vale\n",
    "print(not 0)  # True. Non-zero value"
   ]
  },
  {
   "cell_type": "code",
   "execution_count": 38,
   "id": "c4ec7419",
   "metadata": {},
   "outputs": [],
   "source": [
    "# Membership Operator"
   ]
  },
  {
   "cell_type": "code",
   "execution_count": 39,
   "id": "28937294",
   "metadata": {},
   "outputs": [],
   "source": [
    "# In Python, there are two membership operator in and not in"
   ]
  },
  {
   "cell_type": "code",
   "execution_count": 40,
   "id": "391a11f0",
   "metadata": {},
   "outputs": [
    {
     "name": "stdout",
     "output_type": "stream",
     "text": [
      "True\n"
     ]
    }
   ],
   "source": [
    "# in operator\n",
    "x = [\"apple\",\"banana\"]\n",
    "print(\"banana\" in x)"
   ]
  },
  {
   "cell_type": "code",
   "execution_count": 42,
   "id": "0d6a3cd6",
   "metadata": {},
   "outputs": [
    {
     "name": "stdout",
     "output_type": "stream",
     "text": [
      "True\n",
      "False\n"
     ]
    }
   ],
   "source": [
    "# not in operator\n",
    "x = [\"apple\",\"banana\"]\n",
    "print(\"cherry\" not in x)\n",
    "print(\"banana\" not in x)"
   ]
  },
  {
   "cell_type": "code",
   "execution_count": 43,
   "id": "97cfd8be",
   "metadata": {},
   "outputs": [],
   "source": [
    "# Identity Operator"
   ]
  },
  {
   "cell_type": "code",
   "execution_count": 44,
   "id": "264e5fb4",
   "metadata": {},
   "outputs": [],
   "source": [
    "# Use the Identity operator to check whether the value of two variables is the same or not.\n",
    "# Python has 2 identity operators is and is not."
   ]
  },
  {
   "cell_type": "code",
   "execution_count": 45,
   "id": "939d41be",
   "metadata": {},
   "outputs": [
    {
     "name": "stdout",
     "output_type": "stream",
     "text": [
      "False\n",
      "True\n"
     ]
    }
   ],
   "source": [
    "# The is operstor return boolean true or false.\n",
    "x = 10\n",
    "y = 11\n",
    "z = 10\n",
    "print(x is y) # it compare memory address of x and y\n",
    "print(x is z) # it compare memory address of x and z"
   ]
  },
  {
   "cell_type": "code",
   "execution_count": 46,
   "id": "4a1ecf15",
   "metadata": {},
   "outputs": [
    {
     "name": "stdout",
     "output_type": "stream",
     "text": [
      "True\n",
      "False\n"
     ]
    }
   ],
   "source": [
    "x = 10\n",
    "y = 11\n",
    "z = 10\n",
    "print(x is not y) # it campare memory address of x and y\n",
    "print(x is not z) # it campare memory address of x and z"
   ]
  },
  {
   "cell_type": "code",
   "execution_count": 47,
   "id": "75c09ebd",
   "metadata": {},
   "outputs": [],
   "source": [
    "# Bitwise Operator"
   ]
  },
  {
   "cell_type": "code",
   "execution_count": null,
   "id": "b79d0bd3",
   "metadata": {},
   "outputs": [],
   "source": [
    "1. & Bitwise and\n",
    "2. | Bitwise or\n",
    "3. ^ Bitwise xor"
   ]
  },
  {
   "cell_type": "code",
   "execution_count": null,
   "id": "d1aceb6f",
   "metadata": {},
   "outputs": [],
   "source": [
    "# In Python, bitwise operators are used to performing bitwise operations on integers. To perform bitwise, we first need\n",
    "# to convert integer value to binary (0 and 1) value."
   ]
  },
  {
   "cell_type": "code",
   "execution_count": 48,
   "id": "ec1111ef",
   "metadata": {},
   "outputs": [
    {
     "name": "stdout",
     "output_type": "stream",
     "text": [
      "4\n",
      "5\n",
      "4\n"
     ]
    }
   ],
   "source": [
    "# AND\n",
    "a = 7\n",
    "b = 4\n",
    "c = 5\n",
    "print(a & b)\n",
    "print(a & c)\n",
    "print(b & c)"
   ]
  },
  {
   "cell_type": "code",
   "execution_count": 49,
   "id": "5be359ba",
   "metadata": {},
   "outputs": [
    {
     "name": "stdout",
     "output_type": "stream",
     "text": [
      "7\n",
      "7\n",
      "5\n"
     ]
    }
   ],
   "source": [
    "# OR\n",
    "a = 7\n",
    "b = 4\n",
    "c = 5\n",
    "print(a | b)\n",
    "print(a | c)\n",
    "print(b | c)"
   ]
  },
  {
   "cell_type": "code",
   "execution_count": null,
   "id": "743b2b27",
   "metadata": {},
   "outputs": [],
   "source": [
    "# XOR\n",
    "a = 7\n",
    "b = 4\n",
    "c = 5\n",
    "print(a ^ c)\n",
    "print(b ^ c)"
   ]
  }
 ],
 "metadata": {
  "kernelspec": {
   "display_name": "Python 3 (ipykernel)",
   "language": "python",
   "name": "python3"
  },
  "language_info": {
   "codemirror_mode": {
    "name": "ipython",
    "version": 3
   },
   "file_extension": ".py",
   "mimetype": "text/x-python",
   "name": "python",
   "nbconvert_exporter": "python",
   "pygments_lexer": "ipython3",
   "version": "3.9.7"
  }
 },
 "nbformat": 4,
 "nbformat_minor": 5
}
